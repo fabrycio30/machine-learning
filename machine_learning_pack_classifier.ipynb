{
  "nbformat": 4,
  "nbformat_minor": 0,
  "metadata": {
    "colab": {
      "provenance": [],
      "authorship_tag": "ABX9TyOsD6EVYWvPT5Kwle4AzL0w"
    },
    "kernelspec": {
      "name": "python3",
      "display_name": "Python 3"
    },
    "language_info": {
      "name": "python"
    }
  },
  "cells": [
    {
      "cell_type": "code",
      "execution_count": null,
      "metadata": {
        "colab": {
          "base_uri": "https://localhost:8080/"
        },
        "id": "sUtXl07Wi2d3",
        "outputId": "626b72ba-57d8-4048-c2ff-8961075194e3"
      },
      "outputs": [
        {
          "output_type": "stream",
          "name": "stdout",
          "text": [
            "Looking in indexes: https://pypi.org/simple, https://us-python.pkg.dev/colab-wheels/public/simple/\n",
            "Collecting lazypredict\n",
            "  Downloading lazypredict-0.2.12-py2.py3-none-any.whl (12 kB)\n",
            "Requirement already satisfied: tqdm in /usr/local/lib/python3.8/dist-packages (from lazypredict) (4.64.1)\n",
            "Requirement already satisfied: click in /usr/local/lib/python3.8/dist-packages (from lazypredict) (7.1.2)\n",
            "Requirement already satisfied: pandas in /usr/local/lib/python3.8/dist-packages (from lazypredict) (1.3.5)\n",
            "Requirement already satisfied: joblib in /usr/local/lib/python3.8/dist-packages (from lazypredict) (1.2.0)\n",
            "Requirement already satisfied: lightgbm in /usr/local/lib/python3.8/dist-packages (from lazypredict) (2.2.3)\n",
            "Requirement already satisfied: scikit-learn in /usr/local/lib/python3.8/dist-packages (from lazypredict) (1.0.2)\n",
            "Requirement already satisfied: xgboost in /usr/local/lib/python3.8/dist-packages (from lazypredict) (0.90)\n",
            "Requirement already satisfied: scipy in /usr/local/lib/python3.8/dist-packages (from lightgbm->lazypredict) (1.7.3)\n",
            "Requirement already satisfied: numpy in /usr/local/lib/python3.8/dist-packages (from lightgbm->lazypredict) (1.21.6)\n",
            "Requirement already satisfied: python-dateutil>=2.7.3 in /usr/local/lib/python3.8/dist-packages (from pandas->lazypredict) (2.8.2)\n",
            "Requirement already satisfied: pytz>=2017.3 in /usr/local/lib/python3.8/dist-packages (from pandas->lazypredict) (2022.7.1)\n",
            "Requirement already satisfied: threadpoolctl>=2.0.0 in /usr/local/lib/python3.8/dist-packages (from scikit-learn->lazypredict) (3.1.0)\n",
            "Requirement already satisfied: six>=1.5 in /usr/local/lib/python3.8/dist-packages (from python-dateutil>=2.7.3->pandas->lazypredict) (1.15.0)\n",
            "Installing collected packages: lazypredict\n",
            "Successfully installed lazypredict-0.2.12\n"
          ]
        }
      ],
      "source": [
        "!pip install lazypredict"
      ]
    },
    {
      "cell_type": "code",
      "source": [
        "from lazypredict.Supervised import LazyClassifier, LazyRegressor\n",
        "from sklearn.model_selection import train_test_split\n",
        "from sklearn import datasets"
      ],
      "metadata": {
        "id": "q35p_bcpj7jZ"
      },
      "execution_count": null,
      "outputs": []
    },
    {
      "cell_type": "code",
      "source": [
        "# load data\n",
        "data = datasets.load_breast_cancer()\n",
        "X, y = data.data, data.target\n",
        "X_train, X_test, y_train, y_test = train_test_split(X, y, test_size=.2, random_state=42)\n",
        "# fit all models\n",
        "clf = LazyClassifier(predictions=True)\n",
        "models, predictions = clf.fit(X_train, X_test, y_train, y_test)"
      ],
      "metadata": {
        "colab": {
          "base_uri": "https://localhost:8080/"
        },
        "id": "73UGQagpkCEl",
        "outputId": "9e0ba2cb-6d00-4c3e-9121-552a8559e800"
      },
      "execution_count": null,
      "outputs": [
        {
          "output_type": "stream",
          "name": "stderr",
          "text": [
            "100%|██████████| 29/29 [00:03<00:00,  8.51it/s]\n"
          ]
        }
      ]
    },
    {
      "cell_type": "code",
      "source": [
        "print(models)"
      ],
      "metadata": {
        "colab": {
          "base_uri": "https://localhost:8080/"
        },
        "id": "MORm-KnPkKnM",
        "outputId": "bf51d645-ba55-461f-82c7-6e714e72b1b2"
      },
      "execution_count": null,
      "outputs": [
        {
          "output_type": "stream",
          "name": "stdout",
          "text": [
            "                               Accuracy  Balanced Accuracy  ROC AUC  F1 Score  \\\n",
            "Model                                                                           \n",
            "BernoulliNB                        0.98               0.98     0.98      0.98   \n",
            "PassiveAggressiveClassifier        0.98               0.98     0.98      0.98   \n",
            "SVC                                0.98               0.98     0.98      0.98   \n",
            "Perceptron                         0.97               0.97     0.97      0.97   \n",
            "AdaBoostClassifier                 0.97               0.97     0.97      0.97   \n",
            "LogisticRegression                 0.97               0.97     0.97      0.97   \n",
            "ExtraTreeClassifier                0.96               0.97     0.97      0.97   \n",
            "SGDClassifier                      0.96               0.97     0.97      0.97   \n",
            "CalibratedClassifierCV             0.97               0.97     0.97      0.97   \n",
            "XGBClassifier                      0.96               0.96     0.96      0.96   \n",
            "RandomForestClassifier             0.96               0.96     0.96      0.96   \n",
            "LGBMClassifier                     0.96               0.96     0.96      0.96   \n",
            "GaussianNB                         0.96               0.96     0.96      0.96   \n",
            "ExtraTreesClassifier               0.96               0.96     0.96      0.96   \n",
            "QuadraticDiscriminantAnalysis      0.96               0.96     0.96      0.96   \n",
            "LinearSVC                          0.96               0.96     0.96      0.96   \n",
            "BaggingClassifier                  0.96               0.95     0.95      0.96   \n",
            "LinearDiscriminantAnalysis         0.96               0.95     0.95      0.96   \n",
            "NearestCentroid                    0.96               0.95     0.95      0.96   \n",
            "NuSVC                              0.96               0.95     0.95      0.96   \n",
            "RidgeClassifier                    0.96               0.95     0.95      0.96   \n",
            "RidgeClassifierCV                  0.96               0.95     0.95      0.96   \n",
            "KNeighborsClassifier               0.95               0.94     0.94      0.95   \n",
            "DecisionTreeClassifier             0.95               0.94     0.94      0.95   \n",
            "LabelSpreading                     0.94               0.93     0.93      0.94   \n",
            "LabelPropagation                   0.94               0.93     0.93      0.94   \n",
            "DummyClassifier                    0.62               0.50     0.50      0.48   \n",
            "\n",
            "                               Time Taken  \n",
            "Model                                      \n",
            "BernoulliNB                          0.07  \n",
            "PassiveAggressiveClassifier          0.03  \n",
            "SVC                                  0.04  \n",
            "Perceptron                           0.04  \n",
            "AdaBoostClassifier                   0.41  \n",
            "LogisticRegression                   0.06  \n",
            "ExtraTreeClassifier                  0.04  \n",
            "SGDClassifier                        0.10  \n",
            "CalibratedClassifierCV               0.12  \n",
            "XGBClassifier                        0.33  \n",
            "RandomForestClassifier               0.51  \n",
            "LGBMClassifier                       0.44  \n",
            "GaussianNB                           0.02  \n",
            "ExtraTreesClassifier                 0.28  \n",
            "QuadraticDiscriminantAnalysis        0.06  \n",
            "LinearSVC                            0.06  \n",
            "BaggingClassifier                    0.11  \n",
            "LinearDiscriminantAnalysis           0.07  \n",
            "NearestCentroid                      0.03  \n",
            "NuSVC                                0.07  \n",
            "RidgeClassifier                      0.03  \n",
            "RidgeClassifierCV                    0.09  \n",
            "KNeighborsClassifier                 0.03  \n",
            "DecisionTreeClassifier               0.03  \n",
            "LabelSpreading                       0.12  \n",
            "LabelPropagation                     0.06  \n",
            "DummyClassifier                      0.02  \n"
          ]
        }
      ]
    }
  ]
}